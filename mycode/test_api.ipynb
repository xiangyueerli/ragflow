{
 "cells": [
  {
   "cell_type": "code",
   "execution_count": 4,
   "id": "cde618fa",
   "metadata": {},
   "outputs": [],
   "source": [
    "from ragflow_sdk import RAGFlow\n",
    "\n",
    "rag_object = RAGFlow(api_key=\"ragflow-FmMTM1OTNhNjkzNTExZjA5ZjA3MDI0Mm\", base_url=\"http://127.0.0.1\")"
   ]
  },
  {
   "cell_type": "code",
   "execution_count": 5,
   "id": "8e12536b",
   "metadata": {},
   "outputs": [
    {
     "name": "stdout",
     "output_type": "stream",
     "text": [
      "{'avatar': '', 'chunk_count': 11, 'chunk_method': 'naive', 'description': None, 'document_count': 23, 'embedding_model': 'text-embedding-3-large@OpenAI', 'id': '44bfe99268cf11f0a7220242ac180006', 'name': 'musique', 'pagerank': 0, 'parser_config': {'auto_keywords': 0, 'auto_questions': 0, 'chunk_token_num': 512, 'delimiter': '\\n', 'graphrag': {'community': True, 'entity_types': ['organization', 'person', 'geo', 'event', 'category'], 'method': 'light', 'resolution': True, 'use_graphrag': True}, 'html4excel': False, 'layout_recognize': 'DeepDOC', 'raptor': {'use_raptor': False}}, 'permission': 'me', 'tenant_id': '34bdfbec68cf11f080d70242ac180006'}\n"
     ]
    }
   ],
   "source": [
    "# list dataset\n",
    "\n",
    "for dataset in rag_object.list_datasets():\n",
    "    print(dataset)"
   ]
  },
  {
   "cell_type": "code",
   "execution_count": 9,
   "id": "94497972",
   "metadata": {},
   "outputs": [
    {
     "name": "stdout",
     "output_type": "stream",
     "text": [
      "{'avatar': '', 'chunk_count': -12, 'chunk_method': 'naive', 'description': None, 'document_count': 0, 'embedding_model': 'text-embedding-3-large@OpenAI', 'id': '44bfe99268cf11f0a7220242ac180006', 'name': 'musique', 'pagerank': 0, 'parser_config': {'auto_keywords': 0, 'auto_questions': 0, 'chunk_token_num': 512, 'delimiter': '\\n', 'graphrag': {'community': True, 'entity_types': ['organization', 'person', 'geo', 'event', 'category'], 'method': 'light', 'resolution': True, 'use_graphrag': True}, 'html4excel': False, 'layout_recognize': 'DeepDOC', 'raptor': {'use_raptor': False}}, 'permission': 'me', 'tenant_id': '34bdfbec68cf11f080d70242ac180006'}\n"
     ]
    }
   ],
   "source": [
    "# list dataset by id\n",
    "\n",
    "datasets = rag_object.list_datasets(id = \"44bfe99268cf11f0a7220242ac180006\")\n",
    "print(datasets[0])\n",
    "dataset = datasets[0]"
   ]
  },
  {
   "cell_type": "code",
   "execution_count": null,
   "id": "4426677a",
   "metadata": {},
   "outputs": [],
   "source": [
    "file_path = \"test.jsonl\" "
   ]
  },
  {
   "cell_type": "code",
   "execution_count": null,
   "id": "56f294cd",
   "metadata": {},
   "outputs": [
    {
     "data": {
      "text/plain": [
       "[<ragflow_sdk.modules.document.Document at 0x1089a5760>,\n",
       " <ragflow_sdk.modules.document.Document at 0x108bde450>,\n",
       " <ragflow_sdk.modules.document.Document at 0x108bdf0e0>,\n",
       " <ragflow_sdk.modules.document.Document at 0x108bdfbc0>,\n",
       " <ragflow_sdk.modules.document.Document at 0x108bdfd70>,\n",
       " <ragflow_sdk.modules.document.Document at 0x108bdfb00>,\n",
       " <ragflow_sdk.modules.document.Document at 0x108bdfbf0>,\n",
       " <ragflow_sdk.modules.document.Document at 0x108bdfaa0>,\n",
       " <ragflow_sdk.modules.document.Document at 0x108bdfc20>,\n",
       " <ragflow_sdk.modules.document.Document at 0x108bdf2f0>,\n",
       " <ragflow_sdk.modules.document.Document at 0x108bf4f80>,\n",
       " <ragflow_sdk.modules.document.Document at 0x108bf4e60>,\n",
       " <ragflow_sdk.modules.document.Document at 0x108bf5220>,\n",
       " <ragflow_sdk.modules.document.Document at 0x108bf4d70>,\n",
       " <ragflow_sdk.modules.document.Document at 0x108bf4a70>,\n",
       " <ragflow_sdk.modules.document.Document at 0x108bf4830>,\n",
       " <ragflow_sdk.modules.document.Document at 0x108bf4590>,\n",
       " <ragflow_sdk.modules.document.Document at 0x108bf4350>,\n",
       " <ragflow_sdk.modules.document.Document at 0x108bf4050>,\n",
       " <ragflow_sdk.modules.document.Document at 0x108bf4170>,\n",
       " <ragflow_sdk.modules.document.Document at 0x108bf7350>,\n",
       " <ragflow_sdk.modules.document.Document at 0x108bf7470>,\n",
       " <ragflow_sdk.modules.document.Document at 0x108bf7440>]"
      ]
     },
     "execution_count": 10,
     "metadata": {},
     "output_type": "execute_result"
    }
   ],
   "source": [
    "# upload document\n",
    "\n",
    "import json\n",
    "\n",
    "file_path = \"test.jsonl\"  # 替换为你的 .jsonl 路径\n",
    "documents = []\n",
    "\n",
    "with open(file_path, \"r\", encoding=\"utf-8\") as f:\n",
    "    for idx, line in enumerate(f):\n",
    "        data = json.loads(line.strip())\n",
    "        \n",
    "        # 提取 title 和 paragraph_text，并用 ## 拼接\n",
    "        combined_text = f\"{data['title']}\\n{data['paragraph_text']}\"\n",
    "        \n",
    "        # 将拼接内容写入一个 .txt 文件\n",
    "        filename = f\"{idx}.txt\"\n",
    "        with open(filename, \"w\", encoding=\"utf-8\") as out:\n",
    "            out.write(combined_text)\n",
    "        \n",
    "        # 再次打开为二进制上传\n",
    "        with open(filename, \"rb\") as bfile:\n",
    "            documents.append({\n",
    "                \"display_name\": filename,\n",
    "                \"blob\": bfile.read()\n",
    "            })\n",
    "\n",
    "# 上传到 dataset\n",
    "dataset.upload_documents(documents)\n",
    "print()"
   ]
  },
  {
   "cell_type": "code",
   "execution_count": null,
   "id": "f5e54ad5",
   "metadata": {},
   "outputs": [
    {
     "name": "stdout",
     "output_type": "stream",
     "text": [
      "Update finished\n"
     ]
    }
   ],
   "source": [
    "# update documents to set meta_fields and chunk_method\n",
    "\n",
    "from ragflow_sdk import RAGFlow\n",
    "import json\n",
    "\n",
    "# 读取原始 jsonl 数据（你用于上传的源数据）\n",
    "file_path = \"test.jsonl\"\n",
    "with open(file_path, \"r\", encoding=\"utf-8\") as f:\n",
    "    raw_data = [json.loads(line.strip()) for line in f]\n",
    "\n",
    "# 获取所有文档\n",
    "docs = dataset.list_documents()\n",
    "\n",
    "# 遍历每个文档并添加 metadata（如果没有）\n",
    "for idx, doc in enumerate(docs):\n",
    "    # 若已有 metadata，不处理\n",
    "    if getattr(doc, \"meta_fields\", None):\n",
    "        continue\n",
    "\n",
    "    if idx >= len(raw_data):\n",
    "        print(f\"Warning: 原始数据不足，跳过 index {idx}\")\n",
    "        continue\n",
    "\n",
    "    # 获取对应原始数据中的 title 和 paragraph_text\n",
    "    paragraph_id = raw_data[idx].get(\"paragraph_id\", \"\")\n",
    "    supporting_references = raw_data[idx].get(\"supporting_references\", \"\")\n",
    "    \n",
    "    # 更新文档的 metadata 和 parser_config\n",
    "    doc.update({\n",
    "        \"meta_fields\": {\n",
    "            \"paragraph_id\": paragraph_id,\n",
    "            \"supporting_references\": supporting_references\n",
    "        },\n",
    "        \"chunk_method\": \"one\"\n",
    "    })\n",
    "\n",
    "print(\"Update finished\")\n"
   ]
  },
  {
   "cell_type": "code",
   "execution_count": 7,
   "id": "d6729847",
   "metadata": {},
   "outputs": [],
   "source": [
    "docs = dataset.list_documents()\n",
    "doc_ids = [doc.id for doc in docs]"
   ]
  },
  {
   "cell_type": "code",
   "execution_count": 8,
   "id": "3e0eaec9",
   "metadata": {},
   "outputs": [],
   "source": [
    "# delete documents\n",
    "\n",
    "dataset.delete_documents(doc_ids)"
   ]
  },
  {
   "cell_type": "code",
   "execution_count": 8,
   "id": "f269d1ed",
   "metadata": {},
   "outputs": [],
   "source": [
    "# parse documents\n",
    "\n",
    "dataset.async_parse_documents(doc_ids)"
   ]
  },
  {
   "cell_type": "code",
   "execution_count": null,
   "id": "0626d395",
   "metadata": {},
   "outputs": [],
   "source": [
    "# python sdk 没有retrieval功能 只有search"
   ]
  }
 ],
 "metadata": {
  "kernelspec": {
   "display_name": "ragflow",
   "language": "python",
   "name": "python3"
  },
  "language_info": {
   "codemirror_mode": {
    "name": "ipython",
    "version": 3
   },
   "file_extension": ".py",
   "mimetype": "text/x-python",
   "name": "python",
   "nbconvert_exporter": "python",
   "pygments_lexer": "ipython3",
   "version": "3.12.11"
  }
 },
 "nbformat": 4,
 "nbformat_minor": 5
}
